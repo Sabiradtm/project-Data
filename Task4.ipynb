{
 "cells": [
  {
   "cell_type": "code",
   "execution_count": null,
   "id": "1d95bb95-c8cb-4c78-928b-dd61d5554ea1",
   "metadata": {},
   "outputs": [],
   "source": [
    "# quiz program that allows user to answer five questions and displayed the final result"
   ]
  },
  {
   "cell_type": "code",
   "execution_count": 1,
   "id": "5d249859-b9fd-42e6-b602-c52cd9626155",
   "metadata": {},
   "outputs": [
    {
     "name": "stdout",
     "output_type": "stream",
     "text": [
      "Welcome to the Quiz Game!\n",
      "Answer the following 5 questions:\n",
      "NOTE: if your spelling is incorrect then it is considered as wrong answer\n",
      "\n",
      "Question 1: What is SI unit of mass?\n"
     ]
    },
    {
     "name": "stdin",
     "output_type": "stream",
     "text": [
      "Your answer:  kg\n"
     ]
    },
    {
     "name": "stdout",
     "output_type": "stream",
     "text": [
      "Correct!\n",
      "\n",
      "Question 2: What is the SI unit time?\n"
     ]
    },
    {
     "name": "stdin",
     "output_type": "stream",
     "text": [
      "Your answer:  second\n"
     ]
    },
    {
     "name": "stdout",
     "output_type": "stream",
     "text": [
      "Correct!\n",
      "\n",
      "Question 3: In what SI unit of lenth?\n"
     ]
    },
    {
     "name": "stdin",
     "output_type": "stream",
     "text": [
      "Your answer:  meter\n"
     ]
    },
    {
     "name": "stdout",
     "output_type": "stream",
     "text": [
      "Correct!\n",
      "\n",
      "Question 4: What is the unit of voltage?\n"
     ]
    },
    {
     "name": "stdin",
     "output_type": "stream",
     "text": [
      "Your answer:  volt\n"
     ]
    },
    {
     "name": "stdout",
     "output_type": "stream",
     "text": [
      "Correct!\n",
      "\n",
      "Question 5: What is the unit of current?\n"
     ]
    },
    {
     "name": "stdin",
     "output_type": "stream",
     "text": [
      "Your answer:  ampere\n"
     ]
    },
    {
     "name": "stdout",
     "output_type": "stream",
     "text": [
      "Correct!\n",
      "\n",
      "Quiz finished! Your final score is: 5/5\n",
      "\n"
     ]
    }
   ],
   "source": [
    "#Define the questions and answers\n",
    "questions = {\n",
    "    1: {\"question\": \"What is SI unit of mass?\", \"answer\": \"kg\"},\n",
    "    2: {\"question\": \"What is the SI unit time?\", \"answer\": \"second\"},\n",
    "    3: {\"question\": \"In what SI unit of lenth?\", \"answer\": \"meter\"},\n",
    "    4: {\"question\": \"What is the unit of voltage?\", \"answer\": \"volt\"},\n",
    "    5: {\"question\": \"What is the unit of current?\", \"answer\": \"ampere\"}\n",
    "}\n",
    "\n",
    "# Initialize the score\n",
    "score = 0\n",
    "\n",
    "# Start the quiz\n",
    "print(\"Welcome to the Quiz Game!\")\n",
    "print(\"Answer the following 5 questions:\")\n",
    "print('NOTE: if your spelling is incorrect then it is considered as wrong answer')\n",
    "\n",
    "# Ask the questions and check the answers\n",
    "for question_number, question_data in questions.items():\n",
    "    print(f\"\\nQuestion {question_number}: {question_data['question']}\")\n",
    "    answer = input(\"Your answer: \")\n",
    "    if answer.lower() == question_data['answer'].lower():\n",
    "        print(\"Correct!\")\n",
    "        score += 1\n",
    "    else:\n",
    "        print(f\"Incorrect. The answer was {question_data['answer']}.\")\n",
    "\n",
    "# Display the final score\n",
    "print(f\"\\nQuiz finished! Your final score is: {score}/5\")\n",
    "print(\"\")"
   ]
  },
  {
   "cell_type": "code",
   "execution_count": null,
   "id": "b4efeab9-2fea-4b76-a873-a094bc816855",
   "metadata": {},
   "outputs": [],
   "source": []
  }
 ],
 "metadata": {
  "kernelspec": {
   "display_name": "Python [conda env:base] *",
   "language": "python",
   "name": "conda-base-py"
  },
  "language_info": {
   "codemirror_mode": {
    "name": "ipython",
    "version": 3
   },
   "file_extension": ".py",
   "mimetype": "text/x-python",
   "name": "python",
   "nbconvert_exporter": "python",
   "pygments_lexer": "ipython3",
   "version": "3.12.7"
  }
 },
 "nbformat": 4,
 "nbformat_minor": 5
}
