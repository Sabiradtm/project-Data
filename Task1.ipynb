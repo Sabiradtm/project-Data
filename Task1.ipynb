{
 "cells": [
  {
   "cell_type": "code",
   "execution_count": null,
   "id": "03e34b49-9021-4d8f-9881-36de342518c7",
   "metadata": {},
   "outputs": [],
   "source": [
    "# code that identify the prime number, Armstrong Number and Palindrome number"
   ]
  },
  {
   "cell_type": "code",
   "execution_count": null,
   "id": "0ec89eb2-3ada-474b-aca7-a4fe5661eaa0",
   "metadata": {},
   "outputs": [],
   "source": [
    "def is_prime(num):\n",
    "    \"\"\"Checks if a number is prime.\"\"\"\n",
    "    if num <= 1:\n",
    "        return False\n",
    "    for i in range(2, int(num**0.5) + 1):\n",
    "        if num % i == 0:\n",
    "            return False\n",
    "    return True\n",
    "\n",
    "def is_armstrong(num):\n",
    "    \"\"\"Checks if a number is an Armstrong number.\"\"\"\n",
    "    original_num = num\n",
    "    sum_of_powers = 0\n",
    "    num_digits = len(str(num))\n",
    "    while num > 0:\n",
    "        digit = num % 10\n",
    "        sum_of_powers += digit ** num_digits\n",
    "        num //= 10\n",
    "    return sum_of_powers == original_num\n",
    "\n",
    "def is_palindrome(num):\n",
    "    \"\"\"Checks if a number is a palindrome.\"\"\"\n",
    "    return str(num) == str(num)[::-1]\n",
    "\n",
    "def get_user_input():\n",
    "    \"\"\"Gets a number from the user.\"\"\"\n",
    "    while True:\n",
    "        try:\n",
    "            num = int(input(\"Enter a number: \"))\n",
    "            return num\n",
    "        except ValueError:\n",
    "            print(\"Invalid input. Please enter an integer.\")\n",
    "\n",
    "def main():\n",
    "    number = get_user_input()\n",
    "    print(f\"{number} is prime: {is_prime(number)}\")\n",
    "    print(f\"{number} is Armstrong: {is_armstrong(number)}\")\n",
    "    print(f\"{number} is palindrome: {is_palindrome(number)}\")\n",
    "\n",
    "if __name__ == \"__main__\":\n",
    "    main()"
   ]
  },
  {
   "cell_type": "code",
   "execution_count": null,
   "id": "e591e91b-183c-4239-b8ea-7e51074a9c8c",
   "metadata": {},
   "outputs": [],
   "source": []
  }
 ],
 "metadata": {
  "kernelspec": {
   "display_name": "Python [conda env:base] *",
   "language": "python",
   "name": "conda-base-py"
  },
  "language_info": {
   "codemirror_mode": {
    "name": "ipython",
    "version": 3
   },
   "file_extension": ".py",
   "mimetype": "text/x-python",
   "name": "python",
   "nbconvert_exporter": "python",
   "pygments_lexer": "ipython3",
   "version": "3.12.7"
  }
 },
 "nbformat": 4,
 "nbformat_minor": 5
}
