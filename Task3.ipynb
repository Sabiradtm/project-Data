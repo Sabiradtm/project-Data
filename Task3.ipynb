{
 "cells": [
  {
   "cell_type": "code",
   "execution_count": null,
   "id": "88405e50-ff9d-4c4f-969d-8961baa7d4a8",
   "metadata": {},
   "outputs": [],
   "source": [
    "# Code that swap two number and print the numbers before and after swapping"
   ]
  },
  {
   "cell_type": "code",
   "execution_count": 1,
   "id": "a6a7989a-1d7d-4f46-9484-aef56e5ab474",
   "metadata": {},
   "outputs": [
    {
     "name": "stdin",
     "output_type": "stream",
     "text": [
      "Enter the first number:  5\n",
      "Enter the second number:  7\n"
     ]
    },
    {
     "name": "stdout",
     "output_type": "stream",
     "text": [
      "\n",
      "Number before swapping:\n",
      "First number: 5\n",
      "Second number: 7\n",
      "\n",
      "Number after swapping:\n",
      "First number: 7\n",
      "Second number: 5\n"
     ]
    }
   ],
   "source": [
    "# Program to swap two numbers\n",
    "\n",
    "def get_user_input(prompt):\n",
    "    \"\"\"Gets an integer from the user.\"\"\"\n",
    "    while True:\n",
    "        try:\n",
    "            return int(input(prompt))\n",
    "        except ValueError:\n",
    "            print(\"Invalid input. Please enter an integer.\")\n",
    "\n",
    "def main():\n",
    "    a = get_user_input('Enter the first number: ')\n",
    "    b = get_user_input('Enter the second number: ')\n",
    "\n",
    "    print(\"\\nNumber before swapping:\")\n",
    "    print(\"First number:\", a)\n",
    "    print(\"Second number:\", b)\n",
    "\n",
    "    (a, b) = (b, a)\n",
    "\n",
    "    print(\"\\nNumber after swapping:\")\n",
    "    print(\"First number:\", a)\n",
    "    print(\"Second number:\", b)\n",
    "\n",
    "if __name__ == \"__main__\":\n",
    "    main()"
   ]
  },
  {
   "cell_type": "code",
   "execution_count": null,
   "id": "72a3b336-3f1c-4f96-a419-4b3d09565e0e",
   "metadata": {},
   "outputs": [],
   "source": []
  }
 ],
 "metadata": {
  "kernelspec": {
   "display_name": "Python [conda env:base] *",
   "language": "python",
   "name": "conda-base-py"
  },
  "language_info": {
   "codemirror_mode": {
    "name": "ipython",
    "version": 3
   },
   "file_extension": ".py",
   "mimetype": "text/x-python",
   "name": "python",
   "nbconvert_exporter": "python",
   "pygments_lexer": "ipython3",
   "version": "3.12.7"
  }
 },
 "nbformat": 4,
 "nbformat_minor": 5
}
