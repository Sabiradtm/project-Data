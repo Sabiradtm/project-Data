{
 "cells": [
  {
   "cell_type": "code",
   "execution_count": null,
   "id": "43f0a9b2-2262-4ca9-a031-198a54443688",
   "metadata": {},
   "outputs": [],
   "source": [
    "# fabonacci series "
   ]
  },
  {
   "cell_type": "code",
   "execution_count": 1,
   "id": "419490ea-fe39-4795-9188-d6a234460154",
   "metadata": {},
   "outputs": [
    {
     "name": "stdin",
     "output_type": "stream",
     "text": [
      "Enter the number of terms:  5\n"
     ]
    },
    {
     "name": "stdout",
     "output_type": "stream",
     "text": [
      "[0, 1, 1, 2, 3]\n"
     ]
    }
   ],
   "source": [
    "def fibonacci(n):\n",
    "    \"\"\"Generates the Fibonacci sequence up to n terms.\"\"\"\n",
    "    a, b = 0, 1\n",
    "    if n <= 0:\n",
    "        return []\n",
    "    elif n == 1:\n",
    "        return [0]\n",
    "    else:\n",
    "        result = [a, b]\n",
    "        while len(result) < n:\n",
    "            a, b = b, a + b\n",
    "            result.append(b)\n",
    "        return result\n",
    "\n",
    "def get_user_input():\n",
    "    \"\"\"Gets user input and validates it.\"\"\"\n",
    "    while True:\n",
    "        try:\n",
    "            n = int(input(\"Enter the number of terms: \"))\n",
    "            if n <= 0:\n",
    "                print(\"Please enter a positive integer.\")\n",
    "            else:\n",
    "                return n\n",
    "        except ValueError:\n",
    "            print(\"Invalid input!. Please Integer Only .\")\n",
    "\n",
    "def main():\n",
    "    n = get_user_input()\n",
    "    fibonacci_sequence = fibonacci(n)\n",
    "    print(fibonacci_sequence)\n",
    "\n",
    "if __name__ == \"__main__\":\n",
    "    main()"
   ]
  },
  {
   "cell_type": "code",
   "execution_count": null,
   "id": "a3795add-ad2e-4103-8b71-f78475529551",
   "metadata": {},
   "outputs": [],
   "source": []
  }
 ],
 "metadata": {
  "kernelspec": {
   "display_name": "Python [conda env:base] *",
   "language": "python",
   "name": "conda-base-py"
  },
  "language_info": {
   "codemirror_mode": {
    "name": "ipython",
    "version": 3
   },
   "file_extension": ".py",
   "mimetype": "text/x-python",
   "name": "python",
   "nbconvert_exporter": "python",
   "pygments_lexer": "ipython3",
   "version": "3.12.7"
  }
 },
 "nbformat": 4,
 "nbformat_minor": 5
}
